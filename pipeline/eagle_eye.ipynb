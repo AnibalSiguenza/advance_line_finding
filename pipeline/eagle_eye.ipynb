{
 "metadata": {
  "language_info": {
   "codemirror_mode": {
    "name": "ipython",
    "version": 3
   },
   "file_extension": ".py",
   "mimetype": "text/x-python",
   "name": "python",
   "nbconvert_exporter": "python",
   "pygments_lexer": "ipython3",
   "version": "3.8.3-final"
  },
  "orig_nbformat": 2,
  "kernelspec": {
   "name": "Python 3.8.3 64-bit ('base': conda)",
   "display_name": "Python 3.8.3 64-bit ('base': conda)",
   "metadata": {
    "interpreter": {
     "hash": "b3ba2566441a7c06988d0923437866b63cedc61552a5af99d1f4fb67d367b25f"
    }
   }
  }
 },
 "nbformat": 4,
 "nbformat_minor": 2,
 "cells": [
  {
   "source": [
    "# Eagle Eye\n",
    "\n",
    "In this notebook the relevant test and calibrations for the eagle eye were done. This calibration is based on the images with straight lines:\n",
    "\n",
    "\n",
    "![Lanes Image](../test_images/straight_lines1.jpg) \n",
    "\n",
    "![Lanes Image](../test_images/straight_lines2.jpg) \n"
   ],
   "cell_type": "markdown",
   "metadata": {}
  },
  {
   "cell_type": "code",
   "execution_count": 11,
   "metadata": {},
   "outputs": [],
   "source": [
    "import numpy as np\n",
    "import cv2\n",
    "import glob\n",
    "import matplotlib.pyplot as plt\n",
    "import matplotlib.image as mpimg\n",
    "%matplotlib qt\n",
    "from pathlib import Path\n",
    "import os\n",
    "from pipeline import undistort_image"
   ]
  },
  {
   "cell_type": "code",
   "execution_count": 12,
   "metadata": {},
   "outputs": [],
   "source": [
    "straight_lines1_file =   \"../test_images/straight_lines1.jpg\"\n",
    "straight_lines2_file =   \"../test_images/straight_lines2.jpg\"\n",
    "\n",
    "\n",
    "straight_lines1 = mpimg.imread(straight_lines1_file)\n",
    "straight_lines2 = mpimg.imread(straight_lines2_file)\n",
    "\n",
    "# Undistorting image\n",
    "straight_lines2 = undistort_image(straight_lines2)\n",
    "straight_lines1 = undistort_image(straight_lines1)\n",
    "\n",
    "def plot_corners():\n",
    "    plt.plot(293, 670, '.')\n",
    "    plt.plot(1018, 670, '.')\n",
    "    plt.plot(577, 466, '.')\n",
    "    plt.plot(707, 466, '.')\n",
    "\n",
    "# Visualy selection of 4 points to make a rectangle\n",
    "plt.figure(1)\n",
    "pts = np.array(\n",
    "    [[293, 670],\n",
    "     [577, 463],\n",
    "     [704, 463],\n",
    "     [1018, 670]], np.int32)\n",
    "pts = pts.reshape((-1,1,2))\n",
    "cv2.polylines(straight_lines1,[pts],True,(0,255,255), 2)\n",
    "plt.imshow(straight_lines1)\n",
    "plot_corners()\n",
    "\n",
    "plt.figure(2)\n",
    "# Visualy selection of 4 points to make a rectangle\n",
    "cv2.polylines(straight_lines2,[pts],True,(0,255,255), 2)\n",
    "plt.imshow(straight_lines2)\n",
    "plot_corners()"
   ]
  },
  {
   "source": [
    "It was observed that this 4 points fits both images quite nicely so we will use them as starting points to select the corners of the perspective transformation. But I tried to tuned the point to produce the straightest lines simultaneously on both images. It was some kind of trade off, because while making one image straighter, the other one bends. Finally I arrive to the values shown below which make both look decent."
   ],
   "cell_type": "markdown",
   "metadata": {}
  },
  {
   "cell_type": "code",
   "execution_count": 13,
   "metadata": {},
   "outputs": [],
   "source": [
    "src = np.float32(\n",
    "    [[293, 670],\n",
    "     [1018, 670],\n",
    "     [577, 463],\n",
    "     [704, 463]])\n",
    "\n",
    "dst = np.float32(\n",
    "    [[293, 670],\n",
    "     [1018, 670],\n",
    "     [293, 463],\n",
    "     [1018, 463]])\n",
    "\n",
    "mtx_perspective = cv2.getPerspectiveTransform(src, dst)\n",
    "mtx_inv_perspective = cv2.getPerspectiveTransform(dst, src)\n",
    "\n",
    "img_size = (straight_lines1.shape[1],straight_lines1.shape[0])\n",
    "\n",
    "straight_lines1_warped = cv2.warpPerspective(straight_lines1, mtx_perspective, img_size, flags=cv2.INTER_LINEAR)\n",
    "straight_lines2_warped = cv2.warpPerspective(straight_lines2, mtx_perspective, img_size, flags=cv2.INTER_LINEAR)\n",
    "\n",
    "\n",
    "output_dir = \"../output_images/eagle_eye/\"\n",
    "Path(output_dir).mkdir(parents=True, exist_ok=True)\n",
    "\n",
    "f1 = plt.figure(3)\n",
    "plt.imshow(straight_lines1_warped)\n",
    "f1.savefig(output_dir + \"straight_lines1.jpg\")\n",
    "\n",
    "f2 = plt.figure(4)\n",
    "plt.imshow(straight_lines2_warped)\n",
    "f2.savefig(output_dir + \"straight_lines2.jpg\")\n",
    "\n",
    "np.save(\"mtx_perspective\", mtx_perspective)\n",
    "np.save(\"mtx_inv_perspective\", mtx_inv_perspective)"
   ]
  },
  {
   "source": [
    "The two straight lines in eagle look as follows:\n",
    "\n",
    "![Lanes Image](../output_images/eagle_eye/straight_lines1.jpg) \n",
    "\n",
    "![Lanes Image](../output_images/eagle_eye/straight_lines2.jpg) "
   ],
   "cell_type": "markdown",
   "metadata": {}
  },
  {
   "cell_type": "code",
   "execution_count": 14,
   "metadata": {},
   "outputs": [
    {
     "output_type": "execute_result",
     "data": {
      "text/plain": [
       "<matplotlib.image.AxesImage at 0x14cbe0c7040>"
      ]
     },
     "metadata": {},
     "execution_count": 14
    }
   ],
   "source": [
    "# test pipeline implementation\n",
    "\n",
    "from pipeline import eagle_eye, eagle_eye_inv\n",
    "\n",
    "straight_lines1_warped_test = eagle_eye(straight_lines1)\n",
    "\n",
    "plt.figure()\n",
    "plt.imshow(straight_lines1_warped_test)\n",
    "\n",
    "straight_lines1_unwarped_test = eagle_eye_inv(straight_lines1_warped_test)\n",
    "\n",
    "plt.figure()\n",
    "plt.imshow(straight_lines1_unwarped_test)"
   ]
  }
 ]
}