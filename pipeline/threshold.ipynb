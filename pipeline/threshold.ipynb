{
 "metadata": {
  "language_info": {
   "codemirror_mode": {
    "name": "ipython",
    "version": 3
   },
   "file_extension": ".py",
   "mimetype": "text/x-python",
   "name": "python",
   "nbconvert_exporter": "python",
   "pygments_lexer": "ipython3",
   "version": "3.8.3-final"
  },
  "orig_nbformat": 2,
  "kernelspec": {
   "name": "Python 3.8.3 64-bit ('base': conda)",
   "display_name": "Python 3.8.3 64-bit ('base': conda)",
   "metadata": {
    "interpreter": {
     "hash": "b3ba2566441a7c06988d0923437866b63cedc61552a5af99d1f4fb67d367b25f"
    }
   }
  }
 },
 "nbformat": 4,
 "nbformat_minor": 2,
 "cells": [
  {
   "source": [
    "# In this notebook the used threshold will be discussed and tested"
   ],
   "cell_type": "markdown",
   "metadata": {}
  },
  {
   "cell_type": "code",
   "execution_count": 1,
   "metadata": {},
   "outputs": [],
   "source": [
    "import numpy as np\n",
    "import cv2\n",
    "import glob\n",
    "import matplotlib.pyplot as plt\n",
    "import matplotlib.image as mpimg\n",
    "%matplotlib qt\n",
    "from pathlib import Path\n",
    "import os\n",
    "from pipeline import undistort_image"
   ]
  },
  {
   "cell_type": "code",
   "execution_count": 2,
   "metadata": {},
   "outputs": [],
   "source": [
    "def region_of_interest(img, vertices):\n",
    "    \"\"\"\n",
    "    Applies an image mask.\n",
    "    \n",
    "    Only keeps the region of the image defined by the polygon\n",
    "    formed from `vertices`. The rest of the image is set to black.\n",
    "    `vertices` should be a numpy array of integer points.\n",
    "    \"\"\"\n",
    "    #defining a blank mask to start with\n",
    "    mask = np.zeros_like(img)   \n",
    "    \n",
    "    #defining a 3 channel or 1 channel color to fill the mask with depending on the input image\n",
    "    if len(img.shape) > 2:\n",
    "        channel_count = img.shape[2]  # i.e. 3 or 4 depending on your image\n",
    "        ignore_mask_color = (255,) * channel_count\n",
    "    else:\n",
    "        ignore_mask_color = 255\n",
    "        \n",
    "    #filling pixels inside the polygon defined by \"vertices\" with the fill color    \n",
    "    cv2.fillConvexPoly(mask, vertices, ignore_mask_color)\n",
    "    \n",
    "    #returning the image only where mask pixels are nonzero\n",
    "    masked_image = cv2.bitwise_and(img, mask)\n",
    "    return masked_image"
   ]
  },
  {
   "cell_type": "code",
   "execution_count": 3,
   "metadata": {},
   "outputs": [],
   "source": [
    "# Make a list of test images\n",
    "images = glob.glob('../test_images/*.jpg')\n",
    "output_dir = \"../output_images/threshold/\"\n",
    "Path(output_dir).mkdir(parents=True, exist_ok=True)\n",
    "\n",
    "# Parameters to experiment #################\n",
    "s_thresh=(150, 255)\n",
    "sx_thresh=(23, 150)\n",
    "############################################\n",
    "\n",
    "for filename in images:\n",
    "    img = cv2.imread(filename)\n",
    "\n",
    "    # Undistort image with previously computes parameters\n",
    "    undst = undistort_image(img)\n",
    "\n",
    "    # Convert to HLS color space and separate the V channel\n",
    "    hls = cv2.cvtColor(undst, cv2.COLOR_RGB2HLS)\n",
    "    l_channel = hls[:,:,1]\n",
    "    s_channel = hls[:,:,2]\n",
    "\n",
    "    # Apply sobel x to l chanel\n",
    "    sobelx = cv2.Sobel(l_channel, cv2.CV_64F, 1, 0) # Take the derivative in x\n",
    "    abs_sobelx = np.absolute(sobelx) # Absolute x derivative to accentuate lines away from horizontal\n",
    "    scaled_sobel = np.uint8(255*abs_sobelx/np.max(abs_sobelx))\n",
    "\n",
    "    # Threshold x gradient\n",
    "    sxbinary = np.zeros_like(scaled_sobel)\n",
    "    sxbinary[(scaled_sobel >= sx_thresh[0]) & (scaled_sobel <= sx_thresh[1])] = 1\n",
    "\n",
    "    # Threshold color channel\n",
    "    s_binary = np.zeros_like(s_channel)\n",
    "    s_binary[(s_channel >= s_thresh[0]) & (s_channel <= s_thresh[1])] = 1\n",
    "    \n",
    "    # Stack each channel\n",
    "    color_binary = np.dstack(( np.zeros_like(sxbinary), sxbinary, s_binary)) * 255\n",
    "\n",
    "    # Plot the result\n",
    "    f, (ax1, ax2) = plt.subplots(1, 2, figsize=(24, 9))\n",
    "    f.tight_layout()\n",
    "\n",
    "    ax1.imshow(mpimg.imread(filename))\n",
    "    ax1.set_title('Original Image', fontsize=40)\n",
    "\n",
    "    ax2.imshow(color_binary)\n",
    "    ax2.set_title('Pipeline Result', fontsize=40)\n",
    "    plt.subplots_adjust(left=0., right=1, top=0.9, bottom=0.)\n",
    "\n",
    "    f.savefig(output_dir + os.path.basename(filename))\n",
    "    f.show()"
   ]
  },
  {
   "source": [
    "## Threshold conclusions:\n",
    "\n",
    "The images were succesfully transformed to a threshold image which indicates the position of the lanes. To make this image there are 2 contributions the x sobel derivate apply to the l chanel marked in green in the images, and the s chanel simply filtered with a threshold markes in blue. The obtained images can be found in output_images/threshold. For example:\n",
    "\n",
    "![Lanes Image](../output_images/threshold/test2.jpg) \n",
    "\n",
    "![Lanes Image](../output_images/threshold/test3.jpg) \n",
    "\n",
    "With this experiment the function threshold was implemented in pipeline.py"
   ],
   "cell_type": "markdown",
   "metadata": {}
  },
  {
   "cell_type": "code",
   "execution_count": 8,
   "metadata": {},
   "outputs": [],
   "source": [
    "# Testing threshold function\n",
    "from pipeline import threshold\n",
    "\n",
    "# Make a list of test images\n",
    "images = glob.glob('../test_images/*.jpg')\n",
    "\n",
    "for filename in images:\n",
    "    img = cv2.imread(filename)\n",
    "\n",
    "    # Undistort image with previously computes parameters\n",
    "    undst = undistort_image(img)\n",
    "    \n",
    "    # Obtain bitmap\n",
    "    color_binary = threshold(undst)\n",
    "\n",
    "    # Stack each channel\n",
    "    color_binary_to_plot = np.dstack(( color_binary, color_binary, color_binary)) * 255\n",
    "\n",
    "    # Plot the result\n",
    "    f, (ax1, ax2) = plt.subplots(1, 2, figsize=(24, 9))\n",
    "    f.tight_layout()\n",
    "\n",
    "    ax1.imshow(mpimg.imread(filename))\n",
    "    ax1.set_title('Original Image', fontsize=40)\n",
    "\n",
    "    ax2.imshow(color_binary_to_plot)\n",
    "    ax2.set_title('Pipeline Result', fontsize=40)\n",
    "    plt.subplots_adjust(left=0., right=1, top=0.9, bottom=0.)\n",
    "\n",
    "    f.show()"
   ]
  }
 ]
}