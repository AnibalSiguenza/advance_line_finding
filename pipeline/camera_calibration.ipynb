{
 "metadata": {
  "language_info": {
   "codemirror_mode": {
    "name": "ipython",
    "version": 3
   },
   "file_extension": ".py",
   "mimetype": "text/x-python",
   "name": "python",
   "nbconvert_exporter": "python",
   "pygments_lexer": "ipython3",
   "version": "3.8.3-final"
  },
  "orig_nbformat": 2,
  "kernelspec": {
   "name": "Python 3.8.3 64-bit ('base': conda)",
   "display_name": "Python 3.8.3 64-bit ('base': conda)",
   "metadata": {
    "interpreter": {
     "hash": "b3ba2566441a7c06988d0923437866b63cedc61552a5af99d1f4fb67d367b25f"
    }
   }
  }
 },
 "nbformat": 4,
 "nbformat_minor": 2,
 "cells": [
  {
   "source": [
    "# Advanced Lane Finding Project"
   ],
   "cell_type": "markdown",
   "metadata": {}
  },
  {
   "source": [
    "## Camera calibration\n",
    "\n",
    "First I will calibrate the camera using the chessboard images. I will compute the calibration matrix and distortion coefficients"
   ],
   "cell_type": "markdown",
   "metadata": {}
  },
  {
   "cell_type": "code",
   "execution_count": 3,
   "metadata": {},
   "outputs": [],
   "source": [
    "import numpy as np\n",
    "import cv2\n",
    "import glob\n",
    "import matplotlib.pyplot as plt\n",
    "%matplotlib qt\n",
    "from pathlib import Path\n",
    "import os"
   ]
  },
  {
   "cell_type": "code",
   "execution_count": 4,
   "metadata": {},
   "outputs": [],
   "source": [
    "# prepare object points, like (0,0,0), (1,0,0), (2,0,0) ....,(6,5,0)\n",
    "objp = np.zeros((6*9,3), np.float32)\n",
    "objp[:,:2] = np.mgrid[0:9,0:6].T.reshape(-1,2)\n",
    "\n",
    "# Arrays to store object points and image points from all the images.\n",
    "objpoints = [] # 3d points in real world space\n",
    "imgpoints = [] # 2d points in image plane.\n",
    "\n",
    "# Make a list of calibration images\n",
    "images = glob.glob('../camera_cal/calibration*.jpg')\n",
    "\n",
    "dist_parameters_sum = np.zeros([1,5])\n",
    "mtx_sum = np.zeros([3,3])\n",
    "dist_counter = 0\n",
    "\n",
    "# Step through the list and search for chessboard corners\n",
    "for fname in images:\n",
    "    img = cv2.imread(fname)\n",
    "    gray = cv2.cvtColor(img,cv2.COLOR_BGR2GRAY)\n",
    "\n",
    "    # Find the chessboard corners\n",
    "    ret, corners = cv2.findChessboardCorners(gray, (9,6),None)\n",
    "\n",
    "    # If found, add object points, image points\n",
    "    if ret == True:\n",
    "        dist_counter = dist_counter + 1\n",
    "\n",
    "        objpoints.append(objp)\n",
    "        imgpoints.append(corners)\n",
    "\n",
    "        # Draw and display the corners\n",
    "        img = cv2.drawChessboardCorners(img, (9,6), corners, ret)\n",
    "\n",
    "        ret, mtx, dist, rvecs, tvecs = cv2.calibrateCamera(objpoints, imgpoints, gray.shape[::-1], None, None)\n",
    "        dst = cv2.undistort(img, mtx, dist, None, mtx)\n",
    "        \n",
    "        mtx_sum = mtx_sum + mtx\n",
    "        dist_parameters_sum = dist_parameters_sum + dist\n",
    "\n",
    "mtx_mean = mtx_sum / dist_counter\n",
    "dist_parameters_mean = dist_parameters_sum / dist_counter\n",
    "\n",
    "np.save(\"mtx\", mtx_mean)\n",
    "np.save(\"dist_parameters\", dist_parameters_mean)"
   ]
  },
  {
   "source": [
    "## Test camera calibration values\n",
    "\n",
    "To test the camera calibration values the images in camera_cal were transformed with the result of the above code. And they were saved in the output_images/calibration folder."
   ],
   "cell_type": "markdown",
   "metadata": {}
  },
  {
   "cell_type": "code",
   "execution_count": 5,
   "metadata": {},
   "outputs": [],
   "source": [
    "# Test final values in all images\n",
    "mtx = np.load(\"mtx.npy\")\n",
    "dist_parameters = np.load(\"dist_parameters.npy\")\n",
    "\n",
    "output_dir = \"../output_images/calibration/\"\n",
    "Path(output_dir).mkdir(parents=True, exist_ok=True)\n",
    "\n",
    "for fname in images:\n",
    "    img = cv2.imread(fname)\n",
    "    gray = cv2.cvtColor(img,cv2.COLOR_BGR2GRAY)\n",
    "\n",
    "    # Find the chessboard corners\n",
    "    ret, corners = cv2.findChessboardCorners(gray, (9,6), None)\n",
    "\n",
    "    # If found, add object points, image points\n",
    "    # if ret == True:\n",
    "    objpoints.append(objp)\n",
    "    imgpoints.append(corners)\n",
    "\n",
    "    # Draw and display the corners\n",
    "    img = cv2.drawChessboardCorners(img, (9,6), corners, ret)\n",
    "\n",
    "    # Undistort image with previously computes parameters\n",
    "    undst = cv2.undistort(img, mtx, dist_parameters, None, mtx)\n",
    "\n",
    "    cv2.imshow('Original', img)\n",
    "    cv2.imshow('Undistort', undst)\n",
    "    cv2.waitKey(500)\n",
    "    \n",
    "    cv2.imwrite(output_dir + os.path.basename(fname), undst)\n",
    "        \n",
    "cv2.destroyAllWindows()"
   ]
  },
  {
   "source": [
    "The resulted images show a proper undistortion as we can see:\n",
    "\n",
    "Before:\n",
    "\n",
    "![Lanes Image](../camera_cal/calibration1.jpg) \n",
    "\n",
    "Alfer\n",
    "\n",
    "![Lanes Image](../output_images/calibration/calibration1.jpg) "
   ],
   "cell_type": "markdown",
   "metadata": {}
  }
 ]
}